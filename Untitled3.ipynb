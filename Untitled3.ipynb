{
  "nbformat": 4,
  "nbformat_minor": 0,
  "metadata": {
    "colab": {
      "provenance": [],
      "authorship_tag": "ABX9TyMF8kCPSR+xmGRyo+Rldr53",
      "include_colab_link": true
    },
    "kernelspec": {
      "name": "python3",
      "display_name": "Python 3"
    },
    "language_info": {
      "name": "python"
    }
  },
  "cells": [
    {
      "cell_type": "markdown",
      "metadata": {
        "id": "view-in-github",
        "colab_type": "text"
      },
      "source": [
        "<a href=\"https://colab.research.google.com/github/Nelly1909/HW_Python_MISIS/blob/main/Untitled3.ipynb\" target=\"_parent\"><img src=\"https://colab.research.google.com/assets/colab-badge.svg\" alt=\"Open In Colab\"/></a>"
      ]
    },
    {
      "cell_type": "code",
      "execution_count": 1,
      "metadata": {
        "colab": {
          "base_uri": "https://localhost:8080/"
        },
        "id": "q1mj782GLdKC",
        "outputId": "9a7d7d4b-50c3-444b-bbfa-489ee93ebc4e"
      },
      "outputs": [
        {
          "output_type": "stream",
          "name": "stdout",
          "text": [
            "0:02:46:40\n"
          ]
        }
      ],
      "source": [
        "seconds = 10000\n",
        "minutes = (seconds % 3600) // 60\n",
        "hours = (seconds % (24 * 3600)) // 3600\n",
        "days = seconds // (24 * 3600)\n",
        "remaining_seconds = seconds % 60\n",
        "\n",
        "formatted_time = f\"{days}:{hours:02d}:{minutes:02d}:{remaining_seconds:02d}\"\n",
        "print(formatted_time)"
      ]
    },
    {
      "cell_type": "code",
      "source": [
        "num1 = float(input(\"Введите первое число: \"))\n",
        "num2 = float(input(\"Введите второе число: \"))\n",
        "operator = input(\"Введите оператор (+, -, *, /): \")\n",
        "\n",
        "result = 0\n",
        "\n",
        "if operator == '+':\n",
        "    result = num1 + num2\n",
        "elif operator == '-':\n",
        "    result = num1 - num2\n",
        "elif operator == '*':\n",
        "    result = num1 * num2\n",
        "elif operator == '/':\n",
        "    if num2 != 0:\n",
        "        result = num1 / num2\n",
        "    else:\n",
        "        print(\"Ошибка: деление на ноль!\")\n",
        "else:\n",
        "    print(\"Ошибка: неверный оператор!\")\n",
        "\n",
        "print(f\"Результат: {result}\""
      ],
      "metadata": {
        "id": "ncUjOiJXLxqa"
      },
      "execution_count": null,
      "outputs": []
    },
    {
      "cell_type": "code",
      "source": [
        "string1 = input(\"Введите первую строку: \")\n",
        "string2 = input(\"Введите вторую строку: \")\n",
        "\n",
        "combined_string = string1 + \"$\" + string2\n",
        "print(combined_string)"
      ],
      "metadata": {
        "id": "Kw4Wu8IiMF5i"
      },
      "execution_count": null,
      "outputs": []
    },
    {
      "cell_type": "code",
      "source": [
        "string1 = input(\"Введите первую строку: \")\n",
        "string2 = input(\"Введите вторую строку: \")\n",
        "\n",
        "print(string1, string2, sep=\"$\")"
      ],
      "metadata": {
        "id": "rkJI6-I2MU_m"
      },
      "execution_count": null,
      "outputs": []
    },
    {
      "cell_type": "code",
      "source": [
        "name = input(\"Введите имя: \")\n",
        "age = int(input(\"Введите возраст: \"))\n",
        "\n",
        "for _ in range(age):\n",
        "    print(f\"С Днем Рождения, {name}!\")"
      ],
      "metadata": {
        "id": "D70Hp3cuMbH9"
      },
      "execution_count": null,
      "outputs": []
    }
  ]
}