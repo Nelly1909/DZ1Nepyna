{
  "nbformat": 4,
  "nbformat_minor": 0,
  "metadata": {
    "colab": {
      "provenance": [],
      "toc_visible": true,
      "authorship_tag": "ABX9TyON/AYiteV4CIMWsJKwk63m",
      "include_colab_link": true
    },
    "kernelspec": {
      "name": "python3",
      "display_name": "Python 3"
    },
    "language_info": {
      "name": "python"
    }
  },
  "cells": [
    {
      "cell_type": "markdown",
      "metadata": {
        "id": "view-in-github",
        "colab_type": "text"
      },
      "source": [
        "<a href=\"https://colab.research.google.com/github/Nelly1909/HW_Python_MISIS/blob/main/DZ1Nelly.ipynb\" target=\"_parent\"><img src=\"https://colab.research.google.com/assets/colab-badge.svg\" alt=\"Open In Colab\"/></a>"
      ]
    },
    {
      "cell_type": "code",
      "execution_count": 8,
      "metadata": {
        "colab": {
          "base_uri": "https://localhost:8080/"
        },
        "id": "LoVc5yGMu-j-",
        "outputId": "4b87fa7d-840e-4869-95ad-a766a955863f"
      },
      "outputs": [
        {
          "output_type": "stream",
          "name": "stdout",
          "text": [
            "0:02:46:40\n"
          ]
        }
      ],
      "source": [
        "#DZ1\n",
        "#1)Сделайте так, чтобы число секунд отображалось в виде дни:часы:минуты:секунды.\n",
        "seconds=10000\n",
        "days = seconds//(24 * 3600)\n",
        "hours = (seconds % (24 * 3600))//3600\n",
        "minutes = (seconds % 3600)//60\n",
        "remaining_seconds = seconds%60\n",
        "\n",
        "time = f\"{days}:{hours:02d}:{minutes:02d}:{remaining_seconds:02d}\"\n",
        "print(time)"
      ]
    },
    {
      "cell_type": "code",
      "source": [
        "#Напишите калькулятор который запрашивает на входе две переменные и знак, и в соответствии с знаком ( + - * / ) выводит результат\n",
        "num1 = float(input('Введите первое число: '))\n",
        "num2 = float(input('Введите второе число: '))\n",
        "operation = input('Введите знак операции (+, -, *, /): ')\n",
        "if operation == '+':\n",
        "    result = num1 + num2\n",
        "elif operation == '-':\n",
        "    result = num1 - num2\n",
        "elif operation == '*':\n",
        "    result = num1 * num2\n",
        "elif operation == '/':\n",
        "    if num2 != 0:\n",
        "        result = num1 / num2\n",
        "    else:\n",
        "        result = 'Ошибка: деление на ноль'\n",
        "else:\n",
        "    result = 'Ошибка: неверный знак операции'\n",
        "    print(f'Результат: {result}')"
      ],
      "metadata": {
        "colab": {
          "base_uri": "https://localhost:8080/"
        },
        "id": "Jl1gJ5K26Mx2",
        "outputId": "d0a65c39-92db-4144-a6e7-a09b3e31e842"
      },
      "execution_count": 9,
      "outputs": [
        {
          "name": "stdout",
          "output_type": "stream",
          "text": [
            "Введите первое число: 5\n",
            "Введите второе число: 5\n",
            "Введите знак операции (+, -, *, /): -\n"
          ]
        }
      ]
    }
  ]
}